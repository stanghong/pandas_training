{
 "cells": [
  {
   "cell_type": "markdown",
   "id": "eeca027a",
   "metadata": {},
   "source": [
    "**1. Join Data Frame**"
   ]
  },
  {
   "cell_type": "code",
   "execution_count": null,
   "id": "2e8d9cce",
   "metadata": {},
   "outputs": [],
   "source": [
    "import pandas as pd\n",
    "staff_df=pd.DataFrame([{'Name': 'Kelly', 'Role': 'Directory of HR'},\n",
    "                        {'Name': 'sally', 'Role': 'course liasion'},\n",
    "                         {'Name': 'James', 'Role': 'Grader'}])\n",
    "staff_df=staff_df.set_index('Name')"
   ]
  },
  {
   "cell_type": "code",
   "execution_count": null,
   "id": "04dd26f2",
   "metadata": {},
   "outputs": [],
   "source": [
    "staff_df"
   ]
  },
  {
   "cell_type": "code",
   "execution_count": null,
   "id": "7e4f9435",
   "metadata": {},
   "outputs": [],
   "source": [
    "student_df=pd.DataFrame([{'Name': 'James', 'school': 'buisness'},\n",
    "                        {'Name': 'sally', 'school': 'law'},\n",
    "                         {'Name': 'Mike', 'school': 'engineering'}])\n",
    "student_df=student_df.set_index('Name')"
   ]
  },
  {
   "cell_type": "code",
   "execution_count": null,
   "id": "aceccb77",
   "metadata": {},
   "outputs": [],
   "source": [
    "student_df"
   ]
  },
  {
   "cell_type": "markdown",
   "id": "86f48913",
   "metadata": {},
   "source": [
    "**2. Merge Union**\n"
   ]
  },
  {
   "cell_type": "code",
   "execution_count": null,
   "id": "d055ee41",
   "metadata": {},
   "outputs": [],
   "source": [
    "pd.merge(staff_df,student_df, how='outer', left_index=True, right_index=True )\n"
   ]
  },
  {
   "cell_type": "code",
   "execution_count": null,
   "id": "00580299",
   "metadata": {},
   "outputs": [],
   "source": [
    "pd.merge(staff_df,student_df, how='inner', left_index=True, right_index=True )"
   ]
  },
  {
   "cell_type": "code",
   "execution_count": null,
   "id": "3ecf5328",
   "metadata": {},
   "outputs": [],
   "source": [
    "pd.merge(staff_df,student_df, how='left', left_index=True, right_index=True )"
   ]
  },
  {
   "cell_type": "code",
   "execution_count": null,
   "id": "783f2b8e",
   "metadata": {},
   "outputs": [],
   "source": [
    "pd.merge(staff_df,student_df, how='right', left_index=True, right_index=True )"
   ]
  },
  {
   "cell_type": "markdown",
   "id": "cd848ba2",
   "metadata": {},
   "source": [
    "**3. note on='Name' in merge**"
   ]
  },
  {
   "cell_type": "code",
   "execution_count": null,
   "id": "c88615f9",
   "metadata": {},
   "outputs": [],
   "source": [
    "staff_df=staff_df.reset_index()\n",
    "student_df=student_df.reset_index()\n",
    "pd.merge(staff_df,student_df, how='right', on='Name' )"
   ]
  },
  {
   "cell_type": "code",
   "execution_count": null,
   "id": "2f95ad7c",
   "metadata": {},
   "outputs": [],
   "source": [
    "#staff_df=staff_df.set_index('Name')\n",
    "staff_df1=staff_df.reset_index()\n",
    "staff_df1"
   ]
  },
  {
   "cell_type": "code",
   "execution_count": null,
   "id": "f502dadf",
   "metadata": {},
   "outputs": [],
   "source": [
    "staff_df=pd.DataFrame([{'Name': 'Kelly', 'Role': 'Directory of HR', 'Location':'State st'},\n",
    "                        {'Name': 'sally', 'Role': 'course liasion', 'Location':'Washington Ave'},\n",
    "                         {'Name': 'James', 'Role': 'Grader','Location':'Washington Ave'}])\n",
    "staff_df=staff_df.set_index('Name')\n",
    "staff_df"
   ]
  },
  {
   "cell_type": "code",
   "execution_count": null,
   "id": "96c5aebf",
   "metadata": {},
   "outputs": [],
   "source": [
    "student_df=pd.DataFrame([{'Name': 'James', 'school': 'buisness','Location':'10211 Billiard Ave'},\n",
    "                        {'Name': 'sally', 'school': 'law', 'Location':'Fraternity H #22'},\n",
    "                         {'Name': 'Mike', 'school': 'engineering','Location':'512 Wilson Cres'}])\n",
    "student_df=student_df.set_index('Name')\n",
    "student_df"
   ]
  },
  {
   "cell_type": "markdown",
   "id": "938511a5",
   "metadata": {},
   "source": [
    "**4. location _x on left dataframe -y on right dataframe**"
   ]
  },
  {
   "cell_type": "code",
   "execution_count": null,
   "id": "e2d7a359",
   "metadata": {},
   "outputs": [],
   "source": [
    "pd.merge(staff_df,student_df, how='left', on='Name')"
   ]
  },
  {
   "cell_type": "markdown",
   "id": "183568bc",
   "metadata": {},
   "source": [
    "**5. multi_indexing multi columns**"
   ]
  },
  {
   "cell_type": "code",
   "execution_count": null,
   "id": "116b6514",
   "metadata": {},
   "outputs": [],
   "source": [
    "staff_df=pd.DataFrame([{'Name': 'Kelly', 'Role': 'Directory of HR', 'LastName':'Des'},\n",
    "                        {'Name': 'sally', 'Role': 'course liasion', 'LastName':'Brooks'},\n",
    "                         {'Name': 'James', 'Role': 'Grader','LastName':'Wilde'}])\n",
    "staff_df=staff_df.set_index('Name')\n",
    "staff_df"
   ]
  },
  {
   "cell_type": "code",
   "execution_count": null,
   "id": "d55097a8",
   "metadata": {},
   "outputs": [],
   "source": [
    "student_df=pd.DataFrame([{'Name': 'James', 'school': 'buisness','LastName':'10211 Hammond'},\n",
    "                        {'Name': 'sally', 'school': 'law', 'LastName':'Brooks'},\n",
    "                         {'Name': 'Mike', 'school': 'engineering','LastName':'Smith'}])\n",
    "student_df=student_df.set_index('Name')\n",
    "student_df"
   ]
  },
  {
   "cell_type": "code",
   "execution_count": null,
   "id": "3adccad2",
   "metadata": {},
   "outputs": [],
   "source": [
    "pd.merge(staff_df, student_df, how='inner', on=['Name', 'LastName'])"
   ]
  },
  {
   "cell_type": "code",
   "execution_count": null,
   "id": "a994339a",
   "metadata": {},
   "outputs": [],
   "source": []
  }
 ],
 "metadata": {
  "kernelspec": {
   "display_name": "Python 3",
   "language": "python",
   "name": "python3"
  },
  "language_info": {
   "codemirror_mode": {
    "name": "ipython",
    "version": 3
   },
   "file_extension": ".py",
   "mimetype": "text/x-python",
   "name": "python",
   "nbconvert_exporter": "python",
   "pygments_lexer": "ipython3",
   "version": "3.8.8"
  }
 },
 "nbformat": 4,
 "nbformat_minor": 5
}
