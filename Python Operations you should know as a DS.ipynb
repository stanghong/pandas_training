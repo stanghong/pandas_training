{
 "cells": [
  {
   "cell_type": "markdown",
   "id": "44b97237",
   "metadata": {},
   "source": [
    "# Must Knows in Pandas\n",
    "- View Dataframe\n",
    "- Rename Columns\n",
    "- Drop Column\n",
    "- Filtering\n",
    "- Add Column\n",
    "- Fill Nulls\n",
    "- Aggregation\n",
    "- Standard Transformations\n",
    "- Keep it in the JVM\n",
    "- Row Conditional Statements\n",
    "- Python when Required\n",
    "- merge/join dataframes\n",
    "- Pivot table\n",
    "- Summary Statistics\n",
    "- histogram\n",
    "- SQL"
   ]
  },
  {
   "cell_type": "code",
   "execution_count": 37,
   "id": "6b75d3a9",
   "metadata": {},
   "outputs": [],
   "source": [
    "import pandas as pd\n",
    "import numpy as np"
   ]
  },
  {
   "cell_type": "code",
   "execution_count": 38,
   "id": "a642d231",
   "metadata": {},
   "outputs": [
    {
     "data": {
      "text/html": [
       "<div>\n",
       "<style scoped>\n",
       "    .dataframe tbody tr th:only-of-type {\n",
       "        vertical-align: middle;\n",
       "    }\n",
       "\n",
       "    .dataframe tbody tr th {\n",
       "        vertical-align: top;\n",
       "    }\n",
       "\n",
       "    .dataframe thead th {\n",
       "        text-align: right;\n",
       "    }\n",
       "</style>\n",
       "<table border=\"1\" class=\"dataframe\">\n",
       "  <thead>\n",
       "    <tr style=\"text-align: right;\">\n",
       "      <th></th>\n",
       "      <th>Role</th>\n",
       "    </tr>\n",
       "    <tr>\n",
       "      <th>Name</th>\n",
       "      <th></th>\n",
       "    </tr>\n",
       "  </thead>\n",
       "  <tbody>\n",
       "    <tr>\n",
       "      <th>Kelly</th>\n",
       "      <td>Directory of HR</td>\n",
       "    </tr>\n",
       "    <tr>\n",
       "      <th>sally</th>\n",
       "      <td>course liasion</td>\n",
       "    </tr>\n",
       "    <tr>\n",
       "      <th>James</th>\n",
       "      <td>Grader</td>\n",
       "    </tr>\n",
       "  </tbody>\n",
       "</table>\n",
       "</div>"
      ],
      "text/plain": [
       "                  Role\n",
       "Name                  \n",
       "Kelly  Directory of HR\n",
       "sally   course liasion\n",
       "James           Grader"
      ]
     },
     "execution_count": 38,
     "metadata": {},
     "output_type": "execute_result"
    }
   ],
   "source": [
    "staff_df=pd.DataFrame([{'Name': 'Kelly', 'Role': 'Directory of HR'},\n",
    "                        {'Name': 'sally', 'Role': 'course liasion'},\n",
    "                         {'Name': 'James', 'Role': 'Grader'}])\n",
    "staff_df=staff_df.set_index('Name')\n",
    "staff_df"
   ]
  },
  {
   "cell_type": "markdown",
   "id": "f0eacfb5",
   "metadata": {},
   "source": [
    "### In Real life most people use following line to load data \n",
    "df = pd.read_csv('census.csv') \\\n",
    "df"
   ]
  },
  {
   "cell_type": "markdown",
   "id": "aa748eae",
   "metadata": {},
   "source": [
    "### View dataframe"
   ]
  },
  {
   "cell_type": "code",
   "execution_count": 39,
   "id": "b4009950",
   "metadata": {},
   "outputs": [],
   "source": [
    "staff_df\n",
    "df=staff_df"
   ]
  },
  {
   "cell_type": "code",
   "execution_count": 40,
   "id": "9ea03775",
   "metadata": {},
   "outputs": [
    {
     "data": {
      "text/html": [
       "<div>\n",
       "<style scoped>\n",
       "    .dataframe tbody tr th:only-of-type {\n",
       "        vertical-align: middle;\n",
       "    }\n",
       "\n",
       "    .dataframe tbody tr th {\n",
       "        vertical-align: top;\n",
       "    }\n",
       "\n",
       "    .dataframe thead th {\n",
       "        text-align: right;\n",
       "    }\n",
       "</style>\n",
       "<table border=\"1\" class=\"dataframe\">\n",
       "  <thead>\n",
       "    <tr style=\"text-align: right;\">\n",
       "      <th></th>\n",
       "      <th>Role</th>\n",
       "    </tr>\n",
       "    <tr>\n",
       "      <th>Name</th>\n",
       "      <th></th>\n",
       "    </tr>\n",
       "  </thead>\n",
       "  <tbody>\n",
       "    <tr>\n",
       "      <th>Kelly</th>\n",
       "      <td>Directory of HR</td>\n",
       "    </tr>\n",
       "    <tr>\n",
       "      <th>sally</th>\n",
       "      <td>course liasion</td>\n",
       "    </tr>\n",
       "  </tbody>\n",
       "</table>\n",
       "</div>"
      ],
      "text/plain": [
       "                  Role\n",
       "Name                  \n",
       "Kelly  Directory of HR\n",
       "sally   course liasion"
      ]
     },
     "execution_count": 40,
     "metadata": {},
     "output_type": "execute_result"
    }
   ],
   "source": [
    "df.head(2)"
   ]
  },
  {
   "cell_type": "code",
   "execution_count": 41,
   "id": "118a0386",
   "metadata": {},
   "outputs": [
    {
     "data": {
      "text/plain": [
       "Index(['Role'], dtype='object')"
      ]
     },
     "execution_count": 41,
     "metadata": {},
     "output_type": "execute_result"
    }
   ],
   "source": [
    "df.columns"
   ]
  },
  {
   "cell_type": "code",
   "execution_count": 42,
   "id": "f907fdbc",
   "metadata": {
    "scrolled": true
   },
   "outputs": [
    {
     "data": {
      "text/plain": [
       "Role    object\n",
       "dtype: object"
      ]
     },
     "execution_count": 42,
     "metadata": {},
     "output_type": "execute_result"
    }
   ],
   "source": [
    "df.dtypes"
   ]
  },
  {
   "cell_type": "markdown",
   "id": "b60ec43e",
   "metadata": {},
   "source": [
    "### create new columns"
   ]
  },
  {
   "cell_type": "code",
   "execution_count": 43,
   "id": "d1953aa9",
   "metadata": {},
   "outputs": [
    {
     "data": {
      "text/html": [
       "<div>\n",
       "<style scoped>\n",
       "    .dataframe tbody tr th:only-of-type {\n",
       "        vertical-align: middle;\n",
       "    }\n",
       "\n",
       "    .dataframe tbody tr th {\n",
       "        vertical-align: top;\n",
       "    }\n",
       "\n",
       "    .dataframe thead th {\n",
       "        text-align: right;\n",
       "    }\n",
       "</style>\n",
       "<table border=\"1\" class=\"dataframe\">\n",
       "  <thead>\n",
       "    <tr style=\"text-align: right;\">\n",
       "      <th></th>\n",
       "      <th>Role</th>\n",
       "      <th>copy_of_role</th>\n",
       "    </tr>\n",
       "    <tr>\n",
       "      <th>Name</th>\n",
       "      <th></th>\n",
       "      <th></th>\n",
       "    </tr>\n",
       "  </thead>\n",
       "  <tbody>\n",
       "    <tr>\n",
       "      <th>Kelly</th>\n",
       "      <td>Directory of HR</td>\n",
       "      <td>Directory of HR</td>\n",
       "    </tr>\n",
       "    <tr>\n",
       "      <th>sally</th>\n",
       "      <td>course liasion</td>\n",
       "      <td>course liasion</td>\n",
       "    </tr>\n",
       "    <tr>\n",
       "      <th>James</th>\n",
       "      <td>Grader</td>\n",
       "      <td>Grader</td>\n",
       "    </tr>\n",
       "  </tbody>\n",
       "</table>\n",
       "</div>"
      ],
      "text/plain": [
       "                  Role     copy_of_role\n",
       "Name                                   \n",
       "Kelly  Directory of HR  Directory of HR\n",
       "sally   course liasion   course liasion\n",
       "James           Grader           Grader"
      ]
     },
     "execution_count": 43,
     "metadata": {},
     "output_type": "execute_result"
    }
   ],
   "source": [
    "df['copy_of_role']=df['Role']\n",
    "df"
   ]
  },
  {
   "cell_type": "markdown",
   "id": "3a50f779",
   "metadata": {},
   "source": [
    "### rename columns"
   ]
  },
  {
   "cell_type": "code",
   "execution_count": 44,
   "id": "a9af906a",
   "metadata": {},
   "outputs": [
    {
     "data": {
      "text/html": [
       "<div>\n",
       "<style scoped>\n",
       "    .dataframe tbody tr th:only-of-type {\n",
       "        vertical-align: middle;\n",
       "    }\n",
       "\n",
       "    .dataframe tbody tr th {\n",
       "        vertical-align: top;\n",
       "    }\n",
       "\n",
       "    .dataframe thead th {\n",
       "        text-align: right;\n",
       "    }\n",
       "</style>\n",
       "<table border=\"1\" class=\"dataframe\">\n",
       "  <thead>\n",
       "    <tr style=\"text-align: right;\">\n",
       "      <th></th>\n",
       "      <th>role1</th>\n",
       "      <th>role2</th>\n",
       "    </tr>\n",
       "    <tr>\n",
       "      <th>Name</th>\n",
       "      <th></th>\n",
       "      <th></th>\n",
       "    </tr>\n",
       "  </thead>\n",
       "  <tbody>\n",
       "    <tr>\n",
       "      <th>Kelly</th>\n",
       "      <td>Directory of HR</td>\n",
       "      <td>Directory of HR</td>\n",
       "    </tr>\n",
       "    <tr>\n",
       "      <th>sally</th>\n",
       "      <td>course liasion</td>\n",
       "      <td>course liasion</td>\n",
       "    </tr>\n",
       "    <tr>\n",
       "      <th>James</th>\n",
       "      <td>Grader</td>\n",
       "      <td>Grader</td>\n",
       "    </tr>\n",
       "  </tbody>\n",
       "</table>\n",
       "</div>"
      ],
      "text/plain": [
       "                 role1            role2\n",
       "Name                                   \n",
       "Kelly  Directory of HR  Directory of HR\n",
       "sally   course liasion   course liasion\n",
       "James           Grader           Grader"
      ]
     },
     "execution_count": 44,
     "metadata": {},
     "output_type": "execute_result"
    }
   ],
   "source": [
    "df.columns=['role1','role2']\n",
    "df"
   ]
  },
  {
   "cell_type": "code",
   "execution_count": 45,
   "id": "cb06407a",
   "metadata": {
    "scrolled": false
   },
   "outputs": [
    {
     "data": {
      "text/html": [
       "<div>\n",
       "<style scoped>\n",
       "    .dataframe tbody tr th:only-of-type {\n",
       "        vertical-align: middle;\n",
       "    }\n",
       "\n",
       "    .dataframe tbody tr th {\n",
       "        vertical-align: top;\n",
       "    }\n",
       "\n",
       "    .dataframe thead th {\n",
       "        text-align: right;\n",
       "    }\n",
       "</style>\n",
       "<table border=\"1\" class=\"dataframe\">\n",
       "  <thead>\n",
       "    <tr style=\"text-align: right;\">\n",
       "      <th></th>\n",
       "      <th>role1</th>\n",
       "      <th>role2</th>\n",
       "    </tr>\n",
       "    <tr>\n",
       "      <th>Name</th>\n",
       "      <th></th>\n",
       "      <th></th>\n",
       "    </tr>\n",
       "  </thead>\n",
       "  <tbody>\n",
       "    <tr>\n",
       "      <th>Kelly</th>\n",
       "      <td>Directory of HR</td>\n",
       "      <td>Directory of HR</td>\n",
       "    </tr>\n",
       "    <tr>\n",
       "      <th>sally</th>\n",
       "      <td>course liasion</td>\n",
       "      <td>course liasion</td>\n",
       "    </tr>\n",
       "    <tr>\n",
       "      <th>James</th>\n",
       "      <td>Grader</td>\n",
       "      <td>Grader</td>\n",
       "    </tr>\n",
       "  </tbody>\n",
       "</table>\n",
       "</div>"
      ],
      "text/plain": [
       "                 role1            role2\n",
       "Name                                   \n",
       "Kelly  Directory of HR  Directory of HR\n",
       "sally   course liasion   course liasion\n",
       "James           Grader           Grader"
      ]
     },
     "execution_count": 45,
     "metadata": {},
     "output_type": "execute_result"
    }
   ],
   "source": [
    "df.rename(columns={'role2':'new_role'})\n",
    "df"
   ]
  },
  {
   "cell_type": "markdown",
   "id": "56e4e8f2",
   "metadata": {},
   "source": [
    "### why it does not work????"
   ]
  },
  {
   "cell_type": "code",
   "execution_count": 46,
   "id": "3a625b2e",
   "metadata": {
    "scrolled": true
   },
   "outputs": [
    {
     "data": {
      "text/html": [
       "<div>\n",
       "<style scoped>\n",
       "    .dataframe tbody tr th:only-of-type {\n",
       "        vertical-align: middle;\n",
       "    }\n",
       "\n",
       "    .dataframe tbody tr th {\n",
       "        vertical-align: top;\n",
       "    }\n",
       "\n",
       "    .dataframe thead th {\n",
       "        text-align: right;\n",
       "    }\n",
       "</style>\n",
       "<table border=\"1\" class=\"dataframe\">\n",
       "  <thead>\n",
       "    <tr style=\"text-align: right;\">\n",
       "      <th></th>\n",
       "      <th>role1</th>\n",
       "      <th>new_role</th>\n",
       "    </tr>\n",
       "    <tr>\n",
       "      <th>Name</th>\n",
       "      <th></th>\n",
       "      <th></th>\n",
       "    </tr>\n",
       "  </thead>\n",
       "  <tbody>\n",
       "    <tr>\n",
       "      <th>Kelly</th>\n",
       "      <td>Directory of HR</td>\n",
       "      <td>Directory of HR</td>\n",
       "    </tr>\n",
       "    <tr>\n",
       "      <th>sally</th>\n",
       "      <td>course liasion</td>\n",
       "      <td>course liasion</td>\n",
       "    </tr>\n",
       "    <tr>\n",
       "      <th>James</th>\n",
       "      <td>Grader</td>\n",
       "      <td>Grader</td>\n",
       "    </tr>\n",
       "  </tbody>\n",
       "</table>\n",
       "</div>"
      ],
      "text/plain": [
       "                 role1         new_role\n",
       "Name                                   \n",
       "Kelly  Directory of HR  Directory of HR\n",
       "sally   course liasion   course liasion\n",
       "James           Grader           Grader"
      ]
     },
     "execution_count": 46,
     "metadata": {},
     "output_type": "execute_result"
    }
   ],
   "source": [
    "df.rename(columns={'role2':'new_role'}, inplace=True)\n",
    "df"
   ]
  },
  {
   "cell_type": "markdown",
   "id": "d1dfd82a",
   "metadata": {},
   "source": [
    "### drop columns"
   ]
  },
  {
   "cell_type": "code",
   "execution_count": 47,
   "id": "26c8decf",
   "metadata": {
    "scrolled": false
   },
   "outputs": [],
   "source": [
    "df.drop(['new_role'],axis=1, inplace=True)\n"
   ]
  },
  {
   "cell_type": "markdown",
   "id": "92b7c675",
   "metadata": {},
   "source": [
    "### Filtering by rows and columns"
   ]
  },
  {
   "cell_type": "code",
   "execution_count": 48,
   "id": "2978e62d",
   "metadata": {
    "scrolled": true
   },
   "outputs": [
    {
     "data": {
      "text/html": [
       "<div>\n",
       "<style scoped>\n",
       "    .dataframe tbody tr th:only-of-type {\n",
       "        vertical-align: middle;\n",
       "    }\n",
       "\n",
       "    .dataframe tbody tr th {\n",
       "        vertical-align: top;\n",
       "    }\n",
       "\n",
       "    .dataframe thead th {\n",
       "        text-align: right;\n",
       "    }\n",
       "</style>\n",
       "<table border=\"1\" class=\"dataframe\">\n",
       "  <thead>\n",
       "    <tr style=\"text-align: right;\">\n",
       "      <th></th>\n",
       "      <th>role1</th>\n",
       "    </tr>\n",
       "    <tr>\n",
       "      <th>Name</th>\n",
       "      <th></th>\n",
       "    </tr>\n",
       "  </thead>\n",
       "  <tbody>\n",
       "    <tr>\n",
       "      <th>Kelly</th>\n",
       "      <td>Directory of HR</td>\n",
       "    </tr>\n",
       "    <tr>\n",
       "      <th>sally</th>\n",
       "      <td>course liasion</td>\n",
       "    </tr>\n",
       "  </tbody>\n",
       "</table>\n",
       "</div>"
      ],
      "text/plain": [
       "                 role1\n",
       "Name                  \n",
       "Kelly  Directory of HR\n",
       "sally   course liasion"
      ]
     },
     "execution_count": 48,
     "metadata": {},
     "output_type": "execute_result"
    }
   ],
   "source": [
    "# df[df.Name=='kelly']\n",
    "df.loc[['Kelly', 'sally']]\n",
    "\n"
   ]
  },
  {
   "cell_type": "markdown",
   "id": "5d073889",
   "metadata": {},
   "source": [
    "### Convert list  to dataframe and vice versa"
   ]
  },
  {
   "cell_type": "code",
   "execution_count": 2,
   "id": "ee6896ac",
   "metadata": {},
   "outputs": [],
   "source": [
    "y_test=y_test['col'].to_list()\n",
    "pd.DataFrame(ylist)"
   ]
  },
  {
   "cell_type": "markdown",
   "id": "effdd7ee",
   "metadata": {},
   "source": [
    "### .loc and .iloc are looking for a tuple as inputs\n",
    "so you will need to provide a list, which could be a string, or numbers\n"
   ]
  },
  {
   "cell_type": "code",
   "execution_count": 49,
   "id": "a56aeea4",
   "metadata": {
    "scrolled": true
   },
   "outputs": [
    {
     "data": {
      "text/html": [
       "<div>\n",
       "<style scoped>\n",
       "    .dataframe tbody tr th:only-of-type {\n",
       "        vertical-align: middle;\n",
       "    }\n",
       "\n",
       "    .dataframe tbody tr th {\n",
       "        vertical-align: top;\n",
       "    }\n",
       "\n",
       "    .dataframe thead th {\n",
       "        text-align: right;\n",
       "    }\n",
       "</style>\n",
       "<table border=\"1\" class=\"dataframe\">\n",
       "  <thead>\n",
       "    <tr style=\"text-align: right;\">\n",
       "      <th></th>\n",
       "      <th>role1</th>\n",
       "    </tr>\n",
       "    <tr>\n",
       "      <th>Name</th>\n",
       "      <th></th>\n",
       "    </tr>\n",
       "  </thead>\n",
       "  <tbody>\n",
       "    <tr>\n",
       "      <th>Kelly</th>\n",
       "      <td>Directory of HR</td>\n",
       "    </tr>\n",
       "    <tr>\n",
       "      <th>James</th>\n",
       "      <td>Grader</td>\n",
       "    </tr>\n",
       "  </tbody>\n",
       "</table>\n",
       "</div>"
      ],
      "text/plain": [
       "                 role1\n",
       "Name                  \n",
       "Kelly  Directory of HR\n",
       "James           Grader"
      ]
     },
     "execution_count": 49,
     "metadata": {},
     "output_type": "execute_result"
    }
   ],
   "source": [
    "# df[df.Name=='kelly']\n",
    "df.iloc[[0,2]]\n"
   ]
  },
  {
   "cell_type": "code",
   "execution_count": null,
   "id": "d98905f0",
   "metadata": {},
   "outputs": [],
   "source": [
    "df.iloc[5:15,2:7]"
   ]
  },
  {
   "cell_type": "markdown",
   "id": "96242e6e",
   "metadata": {},
   "source": [
    "### Add Columns"
   ]
  },
  {
   "cell_type": "code",
   "execution_count": 50,
   "id": "58fb6aa4",
   "metadata": {
    "scrolled": true
   },
   "outputs": [
    {
     "data": {
      "text/html": [
       "<div>\n",
       "<style scoped>\n",
       "    .dataframe tbody tr th:only-of-type {\n",
       "        vertical-align: middle;\n",
       "    }\n",
       "\n",
       "    .dataframe tbody tr th {\n",
       "        vertical-align: top;\n",
       "    }\n",
       "\n",
       "    .dataframe thead th {\n",
       "        text-align: right;\n",
       "    }\n",
       "</style>\n",
       "<table border=\"1\" class=\"dataframe\">\n",
       "  <thead>\n",
       "    <tr style=\"text-align: right;\">\n",
       "      <th></th>\n",
       "      <th>role1</th>\n",
       "      <th>dummy</th>\n",
       "    </tr>\n",
       "    <tr>\n",
       "      <th>Name</th>\n",
       "      <th></th>\n",
       "      <th></th>\n",
       "    </tr>\n",
       "  </thead>\n",
       "  <tbody>\n",
       "    <tr>\n",
       "      <th>Kelly</th>\n",
       "      <td>Directory of HR</td>\n",
       "      <td>1</td>\n",
       "    </tr>\n",
       "    <tr>\n",
       "      <th>sally</th>\n",
       "      <td>course liasion</td>\n",
       "      <td>2</td>\n",
       "    </tr>\n",
       "    <tr>\n",
       "      <th>James</th>\n",
       "      <td>Grader</td>\n",
       "      <td>3</td>\n",
       "    </tr>\n",
       "  </tbody>\n",
       "</table>\n",
       "</div>"
      ],
      "text/plain": [
       "                 role1  dummy\n",
       "Name                         \n",
       "Kelly  Directory of HR      1\n",
       "sally   course liasion      2\n",
       "James           Grader      3"
      ]
     },
     "execution_count": 50,
     "metadata": {},
     "output_type": "execute_result"
    }
   ],
   "source": [
    "df['dummy']=[1,2,3]\n",
    "df"
   ]
  },
  {
   "cell_type": "markdown",
   "id": "737c8ae6",
   "metadata": {},
   "source": [
    "### Filtering by values\n"
   ]
  },
  {
   "cell_type": "code",
   "execution_count": 51,
   "id": "9e8e39dc",
   "metadata": {
    "scrolled": false
   },
   "outputs": [
    {
     "data": {
      "text/html": [
       "<div>\n",
       "<style scoped>\n",
       "    .dataframe tbody tr th:only-of-type {\n",
       "        vertical-align: middle;\n",
       "    }\n",
       "\n",
       "    .dataframe tbody tr th {\n",
       "        vertical-align: top;\n",
       "    }\n",
       "\n",
       "    .dataframe thead th {\n",
       "        text-align: right;\n",
       "    }\n",
       "</style>\n",
       "<table border=\"1\" class=\"dataframe\">\n",
       "  <thead>\n",
       "    <tr style=\"text-align: right;\">\n",
       "      <th></th>\n",
       "      <th>role1</th>\n",
       "      <th>dummy</th>\n",
       "    </tr>\n",
       "    <tr>\n",
       "      <th>Name</th>\n",
       "      <th></th>\n",
       "      <th></th>\n",
       "    </tr>\n",
       "  </thead>\n",
       "  <tbody>\n",
       "    <tr>\n",
       "      <th>Kelly</th>\n",
       "      <td>Directory of HR</td>\n",
       "      <td>1</td>\n",
       "    </tr>\n",
       "    <tr>\n",
       "      <th>sally</th>\n",
       "      <td>course liasion</td>\n",
       "      <td>2</td>\n",
       "    </tr>\n",
       "    <tr>\n",
       "      <th>James</th>\n",
       "      <td>Grader</td>\n",
       "      <td>3</td>\n",
       "    </tr>\n",
       "  </tbody>\n",
       "</table>\n",
       "</div>"
      ],
      "text/plain": [
       "                 role1  dummy\n",
       "Name                         \n",
       "Kelly  Directory of HR      1\n",
       "sally   course liasion      2\n",
       "James           Grader      3"
      ]
     },
     "execution_count": 51,
     "metadata": {},
     "output_type": "execute_result"
    }
   ],
   "source": [
    "df[(df.dummy<=2)|(df.index=='James')]"
   ]
  },
  {
   "cell_type": "markdown",
   "id": "db84a06d",
   "metadata": {},
   "source": [
    "### filter out columns to get results"
   ]
  },
  {
   "cell_type": "code",
   "execution_count": 51,
   "id": "d7306dee",
   "metadata": {
    "scrolled": false
   },
   "outputs": [
    {
     "data": {
      "text/html": [
       "<div>\n",
       "<style scoped>\n",
       "    .dataframe tbody tr th:only-of-type {\n",
       "        vertical-align: middle;\n",
       "    }\n",
       "\n",
       "    .dataframe tbody tr th {\n",
       "        vertical-align: top;\n",
       "    }\n",
       "\n",
       "    .dataframe thead th {\n",
       "        text-align: right;\n",
       "    }\n",
       "</style>\n",
       "<table border=\"1\" class=\"dataframe\">\n",
       "  <thead>\n",
       "    <tr style=\"text-align: right;\">\n",
       "      <th></th>\n",
       "      <th>role1</th>\n",
       "      <th>dummy</th>\n",
       "    </tr>\n",
       "    <tr>\n",
       "      <th>Name</th>\n",
       "      <th></th>\n",
       "      <th></th>\n",
       "    </tr>\n",
       "  </thead>\n",
       "  <tbody>\n",
       "    <tr>\n",
       "      <th>Kelly</th>\n",
       "      <td>Directory of HR</td>\n",
       "      <td>1</td>\n",
       "    </tr>\n",
       "    <tr>\n",
       "      <th>sally</th>\n",
       "      <td>course liasion</td>\n",
       "      <td>2</td>\n",
       "    </tr>\n",
       "    <tr>\n",
       "      <th>James</th>\n",
       "      <td>Grader</td>\n",
       "      <td>3</td>\n",
       "    </tr>\n",
       "  </tbody>\n",
       "</table>\n",
       "</div>"
      ],
      "text/plain": [
       "                 role1  dummy\n",
       "Name                         \n",
       "Kelly  Directory of HR      1\n",
       "sally   course liasion      2\n",
       "James           Grader      3"
      ]
     },
     "execution_count": 51,
     "metadata": {},
     "output_type": "execute_result"
    }
   ],
   "source": [
    "df[(df.cost.notnull())].loc[:,['cost','price','purchase_date']]"
   ]
  },
  {
   "cell_type": "markdown",
   "id": "51f481b4",
   "metadata": {},
   "source": [
    "### Assign Value to a filtered cell, notice how to use loc[cond and feature] to work\n",
    "***x.loc[cond, feature]=value***"
   ]
  },
  {
   "cell_type": "code",
   "execution_count": null,
   "id": "52596769",
   "metadata": {},
   "outputs": [],
   "source": [
    "X.loc[(X['market_id']==i)&(X[feature].isnull()),feature] = X.loc[X['market_id']==i,feature].mode()[0]     "
   ]
  },
  {
   "cell_type": "markdown",
   "id": "bc1d18a6",
   "metadata": {},
   "source": [
    "### Zip Feature importances to Feaure names"
   ]
  },
  {
   "cell_type": "code",
   "execution_count": 2,
   "id": "58ac33af",
   "metadata": {},
   "outputs": [],
   "source": [
    "importances = list(zip(clf.feature_importances_, X_train2.columns))\n",
    "importances.sort(reverse=True)\n"
   ]
  },
  {
   "cell_type": "markdown",
   "id": "1dee53df",
   "metadata": {},
   "source": [
    "### Sort by one column"
   ]
  },
  {
   "cell_type": "code",
   "execution_count": 52,
   "id": "28dc0a3a",
   "metadata": {},
   "outputs": [
    {
     "data": {
      "text/html": [
       "<div>\n",
       "<style scoped>\n",
       "    .dataframe tbody tr th:only-of-type {\n",
       "        vertical-align: middle;\n",
       "    }\n",
       "\n",
       "    .dataframe tbody tr th {\n",
       "        vertical-align: top;\n",
       "    }\n",
       "\n",
       "    .dataframe thead th {\n",
       "        text-align: right;\n",
       "    }\n",
       "</style>\n",
       "<table border=\"1\" class=\"dataframe\">\n",
       "  <thead>\n",
       "    <tr style=\"text-align: right;\">\n",
       "      <th></th>\n",
       "      <th>role1</th>\n",
       "      <th>dummy</th>\n",
       "    </tr>\n",
       "    <tr>\n",
       "      <th>Name</th>\n",
       "      <th></th>\n",
       "      <th></th>\n",
       "    </tr>\n",
       "  </thead>\n",
       "  <tbody>\n",
       "    <tr>\n",
       "      <th>James</th>\n",
       "      <td>Grader</td>\n",
       "      <td>3</td>\n",
       "    </tr>\n",
       "    <tr>\n",
       "      <th>sally</th>\n",
       "      <td>course liasion</td>\n",
       "      <td>2</td>\n",
       "    </tr>\n",
       "    <tr>\n",
       "      <th>Kelly</th>\n",
       "      <td>Directory of HR</td>\n",
       "      <td>1</td>\n",
       "    </tr>\n",
       "  </tbody>\n",
       "</table>\n",
       "</div>"
      ],
      "text/plain": [
       "                 role1  dummy\n",
       "Name                         \n",
       "James           Grader      3\n",
       "sally   course liasion      2\n",
       "Kelly  Directory of HR      1"
      ]
     },
     "execution_count": 52,
     "metadata": {},
     "output_type": "execute_result"
    }
   ],
   "source": [
    "\n",
    "final_df=df.sort_values(by=['dummy'], ascending=False)\n",
    "final_df"
   ]
  },
  {
   "cell_type": "markdown",
   "id": "574ba3c1",
   "metadata": {},
   "source": [
    "### Warning:pandas is picky, you have to use (cond1)|(cond2)&(cond3)!"
   ]
  },
  {
   "cell_type": "markdown",
   "id": "e30aa21b",
   "metadata": {},
   "source": [
    "### Logical Operators\n",
    "in Pandas are &, | and ~, and parentheses (...) is important!"
   ]
  },
  {
   "cell_type": "markdown",
   "id": "d3c4074a",
   "metadata": {},
   "source": [
    "### Some time we need to drop some columns"
   ]
  },
  {
   "cell_type": "markdown",
   "id": "e84dae41",
   "metadata": {},
   "source": [
    "### To use NaN, we need to call np.nan"
   ]
  },
  {
   "cell_type": "code",
   "execution_count": 67,
   "id": "b3eb5a8c",
   "metadata": {},
   "outputs": [
    {
     "data": {
      "text/html": [
       "<div>\n",
       "<style scoped>\n",
       "    .dataframe tbody tr th:only-of-type {\n",
       "        vertical-align: middle;\n",
       "    }\n",
       "\n",
       "    .dataframe tbody tr th {\n",
       "        vertical-align: top;\n",
       "    }\n",
       "\n",
       "    .dataframe thead th {\n",
       "        text-align: right;\n",
       "    }\n",
       "</style>\n",
       "<table border=\"1\" class=\"dataframe\">\n",
       "  <thead>\n",
       "    <tr style=\"text-align: right;\">\n",
       "      <th></th>\n",
       "      <th>dummy</th>\n",
       "    </tr>\n",
       "    <tr>\n",
       "      <th>Name</th>\n",
       "      <th></th>\n",
       "    </tr>\n",
       "  </thead>\n",
       "  <tbody>\n",
       "    <tr>\n",
       "      <th>Kelly</th>\n",
       "      <td>NaN</td>\n",
       "    </tr>\n",
       "    <tr>\n",
       "      <th>sally</th>\n",
       "      <td>2.0</td>\n",
       "    </tr>\n",
       "    <tr>\n",
       "      <th>James</th>\n",
       "      <td>3.0</td>\n",
       "    </tr>\n",
       "  </tbody>\n",
       "</table>\n",
       "</div>"
      ],
      "text/plain": [
       "       dummy\n",
       "Name        \n",
       "Kelly    NaN\n",
       "sally    2.0\n",
       "James    3.0"
      ]
     },
     "execution_count": 67,
     "metadata": {},
     "output_type": "execute_result"
    }
   ],
   "source": [
    "df_demo = pd.DataFrame(df.dummy.replace(1, np.nan))\n",
    "df_demo"
   ]
  },
  {
   "cell_type": "code",
   "execution_count": 68,
   "id": "51357f8c",
   "metadata": {},
   "outputs": [
    {
     "data": {
      "text/html": [
       "<div>\n",
       "<style scoped>\n",
       "    .dataframe tbody tr th:only-of-type {\n",
       "        vertical-align: middle;\n",
       "    }\n",
       "\n",
       "    .dataframe tbody tr th {\n",
       "        vertical-align: top;\n",
       "    }\n",
       "\n",
       "    .dataframe thead th {\n",
       "        text-align: right;\n",
       "    }\n",
       "</style>\n",
       "<table border=\"1\" class=\"dataframe\">\n",
       "  <thead>\n",
       "    <tr style=\"text-align: right;\">\n",
       "      <th></th>\n",
       "      <th>dummy</th>\n",
       "    </tr>\n",
       "    <tr>\n",
       "      <th>Name</th>\n",
       "      <th></th>\n",
       "    </tr>\n",
       "  </thead>\n",
       "  <tbody>\n",
       "    <tr>\n",
       "      <th>Kelly</th>\n",
       "      <td>True</td>\n",
       "    </tr>\n",
       "    <tr>\n",
       "      <th>sally</th>\n",
       "      <td>False</td>\n",
       "    </tr>\n",
       "    <tr>\n",
       "      <th>James</th>\n",
       "      <td>False</td>\n",
       "    </tr>\n",
       "  </tbody>\n",
       "</table>\n",
       "</div>"
      ],
      "text/plain": [
       "       dummy\n",
       "Name        \n",
       "Kelly   True\n",
       "sally  False\n",
       "James  False"
      ]
     },
     "execution_count": 68,
     "metadata": {},
     "output_type": "execute_result"
    }
   ],
   "source": [
    "df_demo.isna()"
   ]
  },
  {
   "cell_type": "code",
   "execution_count": null,
   "id": "e4558ffd",
   "metadata": {},
   "outputs": [],
   "source": [
    "demo1= df_demo.dropna(axis='index', how='all', subset)\n",
    "df_demo"
   ]
  },
  {
   "cell_type": "code",
   "execution_count": 70,
   "id": "3d75a448",
   "metadata": {},
   "outputs": [
    {
     "data": {
      "text/html": [
       "<div>\n",
       "<style scoped>\n",
       "    .dataframe tbody tr th:only-of-type {\n",
       "        vertical-align: middle;\n",
       "    }\n",
       "\n",
       "    .dataframe tbody tr th {\n",
       "        vertical-align: top;\n",
       "    }\n",
       "\n",
       "    .dataframe thead th {\n",
       "        text-align: right;\n",
       "    }\n",
       "</style>\n",
       "<table border=\"1\" class=\"dataframe\">\n",
       "  <thead>\n",
       "    <tr style=\"text-align: right;\">\n",
       "      <th></th>\n",
       "      <th>dummy</th>\n",
       "    </tr>\n",
       "    <tr>\n",
       "      <th>Name</th>\n",
       "      <th></th>\n",
       "    </tr>\n",
       "  </thead>\n",
       "  <tbody>\n",
       "    <tr>\n",
       "      <th>sally</th>\n",
       "      <td>2.0</td>\n",
       "    </tr>\n",
       "    <tr>\n",
       "      <th>James</th>\n",
       "      <td>3.0</td>\n",
       "    </tr>\n",
       "  </tbody>\n",
       "</table>\n",
       "</div>"
      ],
      "text/plain": [
       "       dummy\n",
       "Name        \n",
       "sally    2.0\n",
       "James    3.0"
      ]
     },
     "execution_count": 70,
     "metadata": {},
     "output_type": "execute_result"
    }
   ],
   "source": [
    "df_demo.dropna(axis='index', how='all', inplace=True)\n",
    "df_demo"
   ]
  },
  {
   "cell_type": "markdown",
   "id": "81e53850",
   "metadata": {},
   "source": [
    "### FILL NULLS"
   ]
  },
  {
   "cell_type": "code",
   "execution_count": null,
   "id": "3d0c149d",
   "metadata": {},
   "outputs": [],
   "source": [
    "df.fillna(0)"
   ]
  },
  {
   "cell_type": "markdown",
   "id": "ac5b9ba7",
   "metadata": {},
   "source": [
    "### Aggregation\n",
    "let's create another dataframe\n"
   ]
  },
  {
   "cell_type": "code",
   "execution_count": null,
   "id": "64eed520",
   "metadata": {},
   "outputs": [],
   "source": [
    "staff_df['dummy1']=[2,3,4]\n",
    "df=staff_df"
   ]
  },
  {
   "cell_type": "markdown",
   "id": "38d3f368",
   "metadata": {},
   "source": [
    "### simple way for aggregation"
   ]
  },
  {
   "cell_type": "code",
   "execution_count": null,
   "id": "09484bf4",
   "metadata": {},
   "outputs": [],
   "source": [
    "df.groupby(['role1']).agg(['min','max','count'])\n",
    "# remember to use [] to call agg function\n"
   ]
  },
  {
   "cell_type": "code",
   "execution_count": null,
   "id": "eb0734c8",
   "metadata": {},
   "outputs": [],
   "source": [
    "df.agg?"
   ]
  },
  {
   "cell_type": "markdown",
   "id": "1bc132fd",
   "metadata": {},
   "source": [
    "### Little complication"
   ]
  },
  {
   "cell_type": "code",
   "execution_count": null,
   "id": "ec892e20",
   "metadata": {},
   "outputs": [],
   "source": [
    "df.groupby(['role1']).agg({'dummy':['min','max'],'dummy1':['count']})\n",
    "# df.agg({'A' : ['sum', 'min'], 'B' : ['min', 'max']})"
   ]
  },
  {
   "cell_type": "markdown",
   "id": "6cf6c8d0",
   "metadata": {},
   "source": [
    "### Row Condition statements"
   ]
  },
  {
   "cell_type": "code",
   "execution_count": null,
   "id": "159a2e15",
   "metadata": {},
   "outputs": [],
   "source": [
    "df['New']=df['dummy1'].apply(lambda x: 1 if x>2 else 2 if x<1 else 3)"
   ]
  },
  {
   "cell_type": "code",
   "execution_count": null,
   "id": "696f7c18",
   "metadata": {},
   "outputs": [],
   "source": [
    "df"
   ]
  },
  {
   "cell_type": "markdown",
   "id": "d18b8420",
   "metadata": {},
   "source": [
    "# SECTION2"
   ]
  },
  {
   "cell_type": "markdown",
   "id": "729eaed7",
   "metadata": {},
   "source": [
    "### Concat, Join and Merge"
   ]
  },
  {
   "cell_type": "code",
   "execution_count": null,
   "id": "b6d03711",
   "metadata": {},
   "outputs": [],
   "source": [
    "student_df=pd.DataFrame([{'Name': 'James', 'school': 'buisness'},\n",
    "                        {'Name': 'sally', 'school': 'law'},\n",
    "                         {'Name': 'Mike', 'school': 'engineering'}])\n",
    "student_df=student_df.set_index('Name')\n",
    "student_df"
   ]
  },
  {
   "cell_type": "code",
   "execution_count": null,
   "id": "6e0f6a82",
   "metadata": {},
   "outputs": [],
   "source": [
    "staff_df=pd.DataFrame([{'Name': 'Kelly', 'Role': 'Directory of HR'},\n",
    "                        {'Name': 'sally', 'Role': 'course liasion'},\n",
    "                         {'Name': 'James', 'Role': 'Grader'}])\n",
    "staff_df=staff_df.set_index('Name')\n",
    "staff_df"
   ]
  },
  {
   "cell_type": "markdown",
   "id": "27818a6f",
   "metadata": {},
   "source": [
    "### Concatenate dataframes, note axis and []"
   ]
  },
  {
   "cell_type": "code",
   "execution_count": null,
   "id": "8ae854cb",
   "metadata": {},
   "outputs": [],
   "source": [
    "# df.join?\n",
    "new_df=pd.concat([student_df, staff_df], axis=1)\n",
    "new_df"
   ]
  },
  {
   "cell_type": "markdown",
   "id": "688be68f",
   "metadata": {},
   "source": [
    "### Join tables (dataframess) using df1.join(df2)"
   ]
  },
  {
   "cell_type": "code",
   "execution_count": null,
   "id": "f814bc57",
   "metadata": {
    "scrolled": true
   },
   "outputs": [],
   "source": [
    "staff_df.join(student_df, how='outer',sort='Name')\n",
    "# df.join(other, lsuffix='_caller', rsuffix='_other')"
   ]
  },
  {
   "cell_type": "code",
   "execution_count": null,
   "id": "ba3f4059",
   "metadata": {},
   "outputs": [],
   "source": [
    "staff_df.join(student_df, how='inner')\n",
    "# df.join(other, lsuffix='_caller', rsuffix='_other')"
   ]
  },
  {
   "cell_type": "code",
   "execution_count": null,
   "id": "70f1ed3d",
   "metadata": {},
   "outputs": [],
   "source": [
    "staff_df.join(student_df, how='left')\n",
    "# df.join(other, lsuffix='_caller', rsuffix='_other')"
   ]
  },
  {
   "cell_type": "code",
   "execution_count": null,
   "id": "c6fd1b30",
   "metadata": {
    "scrolled": true
   },
   "outputs": [],
   "source": [
    "staff_df.join(student_df, how='right')\n",
    "# df.join(other, lsuffix='_caller', rsuffix='_other')"
   ]
  },
  {
   "cell_type": "markdown",
   "id": "f07e4a6d",
   "metadata": {},
   "source": [
    "### Merge tables (dataframess) using df1.merge(df2)\n",
    "More flexible and versatile way of join tables"
   ]
  },
  {
   "cell_type": "code",
   "execution_count": null,
   "id": "8662935f",
   "metadata": {},
   "outputs": [],
   "source": [
    "df.merge?\n",
    "# df1.merge(df2, left_on='lkey', right_on='rkey')\n",
    "# f.merge(\n",
    "#     right,\n",
    "#     how='inner',\n",
    "#     on=None,\n",
    "#     left_on=None,\n",
    "#     right_on=None,\n",
    "#     left_index=False,\n",
    "#     right_index=False,\n",
    "#     sort=False,\n",
    "#     suffixes=('_x', '_y'),\n",
    "#     copy=True,\n",
    "#     indicator=False,\n",
    "#     validate=None,\n",
    "# ) -> 'DataFrame'"
   ]
  },
  {
   "cell_type": "code",
   "execution_count": null,
   "id": "e2a19115",
   "metadata": {
    "scrolled": true
   },
   "outputs": [],
   "source": [
    "new_df=staff_df.merge(student_df, how='outer',left_index=True, right_index=True)\n",
    "new_df"
   ]
  },
  {
   "cell_type": "markdown",
   "id": "49de0178",
   "metadata": {},
   "source": [
    "### such as left.merge(right, left_on='a', right_on='b')"
   ]
  },
  {
   "cell_type": "markdown",
   "id": "83f42bde",
   "metadata": {},
   "source": [
    "### PIVOT and PIVOT Table in Pandas"
   ]
  },
  {
   "cell_type": "markdown",
   "id": "1e99393a",
   "metadata": {},
   "source": [
    "~~~\n",
    "pd.pivot_table(df, values='D' \n",
    "              index=['a','b'], \n",
    "               columns=['c'], \n",
    "               aggfimc=np.sum)\n",
    "~~~"
   ]
  },
  {
   "cell_type": "markdown",
   "id": "5cf09c12",
   "metadata": {},
   "source": [
    "### Let's prepare a classic dataframe using sklearn package in python"
   ]
  },
  {
   "cell_type": "code",
   "execution_count": null,
   "id": "f1f179a0",
   "metadata": {},
   "outputs": [],
   "source": [
    "from sklearn.datasets import load_iris\n",
    "X, y = load_iris(return_X_y=True)\n",
    "df1=pd.DataFrame(X)\n",
    "df2=pd.DataFrame(y)\n"
   ]
  },
  {
   "cell_type": "code",
   "execution_count": null,
   "id": "b0c7ebf6",
   "metadata": {},
   "outputs": [],
   "source": [
    "df1.columns=['sepal_length','sepal_width','petal_length','petal_width']\n",
    "df2.columns=['species']\n",
    "df=df1.join(df2)\n",
    "df['species_name']=df.species.apply( lambda x : 'setosa' if x==0 else 'versicolor'if x==1 else 'virginica' )\n",
    "df"
   ]
  },
  {
   "cell_type": "code",
   "execution_count": null,
   "id": "4932ad48",
   "metadata": {},
   "outputs": [],
   "source": [
    "df = pd.DataFrame({'foo': ['one', 'one', 'one', 'two', 'two',\n",
    "                            'two'],\n",
    "                    'bar': ['A', 'B', 'C', 'A', 'B', 'C'],\n",
    "                    'baz': [1, 2, 3, 4, 5, 6],\n",
    "                    'zoo': ['x', 'y', 'z', 'q', 'w', 't']})\n",
    "df"
   ]
  },
  {
   "cell_type": "code",
   "execution_count": null,
   "id": "7ba9662e",
   "metadata": {
    "scrolled": true
   },
   "outputs": [],
   "source": [
    "df.pivot(index='bar',columns='foo', values='zoo')"
   ]
  },
  {
   "cell_type": "code",
   "execution_count": null,
   "id": "e7709a04",
   "metadata": {
    "scrolled": true
   },
   "outputs": [],
   "source": [
    "df = pd.DataFrame({\n",
    "        \"lev1\": [1, 1, 1, 2, 2, 2],\n",
    "        \"lev2\": [1, 1, 2, 1, 1, 2],\n",
    "        \"lev3\": [1, 2, 1, 2, 1, 2],\n",
    "        \"lev4\": [1, 2, 3, 4, 5, 6],\n",
    "        \"values\": [0, 1, 2, 3, 4, 5]})\n",
    "df"
   ]
  },
  {
   "cell_type": "code",
   "execution_count": null,
   "id": "739bca13",
   "metadata": {},
   "outputs": [],
   "source": [
    "df.pivot(index=\"lev1\", columns=[\"lev2\", \"lev3\"],values=\"values\")\n",
    "df.pivot(index=[\"lev2\", \"lev3\"], columns=\"lev1\", values=\"lev2\")\n",
    "# df.pivot(index=\"lev2\", columns=\"lev1\", values=\"lev3\")"
   ]
  },
  {
   "cell_type": "markdown",
   "id": "96b9a521",
   "metadata": {},
   "source": [
    "https://www.youtube.com/watch?v=xPPs59pn6qU\n",
    "aggfunc numpy function\n",
    "https://github.com/codebasics/py/blob/master/pandas/10_pivot/pandas_pivot.ipynb"
   ]
  },
  {
   "cell_type": "markdown",
   "id": "ab7323d9",
   "metadata": {},
   "source": [
    "### Pivot Table"
   ]
  },
  {
   "cell_type": "code",
   "execution_count": null,
   "id": "e68dfa31",
   "metadata": {},
   "outputs": [],
   "source": [
    "new_df=pd.pivot_table(df, \n",
    "                     index=\"lev2\",\n",
    "                      columns=\"lev1\",\n",
    "                     ) #take average of the lev3, lev4\n",
    "new_df"
   ]
  },
  {
   "cell_type": "code",
   "execution_count": null,
   "id": "38e99773",
   "metadata": {},
   "outputs": [],
   "source": [
    "new_df=pd.pivot_table(df, \n",
    "                     index=\"lev2\",\n",
    "                      columns=\"lev1\",\n",
    "                      values='lev3') # take the average of lev3\n",
    "new_df"
   ]
  },
  {
   "cell_type": "markdown",
   "id": "79be60d7",
   "metadata": {},
   "source": [
    "### Margins"
   ]
  },
  {
   "cell_type": "code",
   "execution_count": null,
   "id": "def6eb3c",
   "metadata": {},
   "outputs": [],
   "source": [
    "new_df=pd.pivot_table(df, \n",
    "                     index=\"lev2\",\n",
    "                      columns=\"lev1\",\n",
    "#                       values='lev3',\n",
    "                      margins=True,\n",
    "                      aggfunc=np.sum\n",
    "                     ) # take the numpy functions\n",
    "new_df"
   ]
  },
  {
   "cell_type": "markdown",
   "id": "5062252e",
   "metadata": {},
   "source": [
    "### group by\n",
    "as in SQL"
   ]
  },
  {
   "cell_type": "code",
   "execution_count": null,
   "id": "046dc053",
   "metadata": {},
   "outputs": [],
   "source": [
    "df = pd.DataFrame({'foo': ['one', 'one', 'one', 'two', 'two',\n",
    "                            'two'],\n",
    "                    'bar': ['A', 'B', 'C', 'A', 'B', 'C'],\n",
    "                    'baz': [1, 2, 3, 4, 5, 6],\n",
    "                    'zoo': ['x', 'y', 'z', 'q', 'w', 't']})\n",
    "df"
   ]
  },
  {
   "cell_type": "code",
   "execution_count": null,
   "id": "f81a1df2",
   "metadata": {},
   "outputs": [],
   "source": [
    "new_df=pd.pivot_table(df, \n",
    "                     index=\"foo\",\n",
    "                      columns=\"bar\",\n",
    "                      values='baz',\n",
    "                      aggfunc=np.max\n",
    "                     ) # take the numpy functions\n",
    "new_df"
   ]
  },
  {
   "cell_type": "code",
   "execution_count": null,
   "id": "5dc8020f",
   "metadata": {},
   "outputs": [],
   "source": [
    "df"
   ]
  },
  {
   "cell_type": "code",
   "execution_count": null,
   "id": "3534091f",
   "metadata": {},
   "outputs": [],
   "source": [
    "df.groupby(df['foo']).agg(np.mean)"
   ]
  },
  {
   "cell_type": "markdown",
   "id": "a90f99f2",
   "metadata": {},
   "source": [
    "### Create dataframe from array from scratch"
   ]
  },
  {
   "cell_type": "code",
   "execution_count": null,
   "id": "22b1a266",
   "metadata": {},
   "outputs": [],
   "source": [
    "arr= np.ones(54778).reshape(54778,1)\n",
    "dummy=pd.DataFrame({'actual_delivery_time': arr[:,0]})\n",
    "\n",
    "pred_features=pd.concat([pred_features,dummy], axis=1)\n",
    "pred_features.shape"
   ]
  },
  {
   "cell_type": "markdown",
   "id": "49132fae",
   "metadata": {},
   "source": [
    "reample by week and Aggregation by count and sum"
   ]
  },
  {
   "cell_type": "code",
   "execution_count": null,
   "id": "3845c5c2",
   "metadata": {},
   "outputs": [],
   "source": [
    "edf2 = e2.resample('W').agg({\"Category\":'size',\"Sales\":'sum'})"
   ]
  },
  {
   "cell_type": "markdown",
   "id": "752c1541",
   "metadata": {},
   "source": [
    "### Detect and remove Duplicated data from dataframe"
   ]
  },
  {
   "cell_type": "code",
   "execution_count": null,
   "id": "c7b3f7a0",
   "metadata": {},
   "outputs": [],
   "source": [
    "df_W1.duplicated().any()"
   ]
  },
  {
   "cell_type": "code",
   "execution_count": null,
   "id": "70f17bbe",
   "metadata": {},
   "outputs": [],
   "source": [
    "df_W1 = df_W1[~df_W1.index.duplicated(keep='first')]"
   ]
  },
  {
   "cell_type": "markdown",
   "id": "b7db47c0",
   "metadata": {},
   "source": [
    "### reset index inplace"
   ]
  },
  {
   "cell_type": "code",
   "execution_count": null,
   "id": "cbbd5e27",
   "metadata": {},
   "outputs": [],
   "source": [
    "df_W_AU_UserID.reset_index(inplace=True)"
   ]
  },
  {
   "cell_type": "markdown",
   "id": "c6364d37",
   "metadata": {},
   "source": [
    "### groupby to get count\n",
    "https://stackoverflow.com/questions/19384532/get-statistics-for-each-group-such-as-count-mean-etc-using-pandas-groupby"
   ]
  },
  {
   "cell_type": "code",
   "execution_count": null,
   "id": "10e73f83",
   "metadata": {},
   "outputs": [],
   "source": [
    "df.groupby(['col1','col2']).size()\n",
    "\n",
    "df.groupby(['col1', 'col2']).size().reset_index(name='counts')\n",
    "\n",
    "df.groupby(['col1', 'col2'])\n",
    "    .agg({\n",
    "    'col3': ['mean', 'count'], \n",
    "    'col4': ['median', 'min', 'count']\n",
    "   }))"
   ]
  },
  {
   "cell_type": "markdown",
   "id": "1d4b50af",
   "metadata": {},
   "source": [
    "# Bag of Tricks (Advanced)"
   ]
  },
  {
   "cell_type": "markdown",
   "id": "718075b7",
   "metadata": {},
   "source": [
    "### change data type to object"
   ]
  },
  {
   "cell_type": "code",
   "execution_count": null,
   "id": "95f97cd0",
   "metadata": {},
   "outputs": [],
   "source": [
    "test['maxUE_UL+DL']=test['maxUE_UL+DL'].astype('object')"
   ]
  },
  {
   "cell_type": "markdown",
   "id": "2bd0e94f",
   "metadata": {},
   "source": [
    "### extract importance for one hot encoding "
   ]
  },
  {
   "cell_type": "code",
   "execution_count": null,
   "id": "eb737913",
   "metadata": {},
   "outputs": [],
   "source": [
    "onehot_columns=rf_clf_1.named_steps['prep'].transformer_list[1][1][3].get_feature_names(input_features=remain_cat_features)\n",
    "numeric_features_list = list(remain_num_features)\n",
    "numeric_features_list.extend(onehot_columns)\n",
    "\n",
    "importances = list(zip(zip(rf_clf_1.named_steps['rf'].feature_importances_, numeric_features_list)))\n",
    "importances.sort(reverse=True)\n",
    "\n",
    "std = np.std([\n",
    "    tree.feature_importances_ for tree in rf_clf_1.steps[2][1].estimators_], axis=0)\n",
    "\n",
    "from sklearn.inspection import permutation_importance\n",
    "forest_importances = pd.Series(importances, index=feature_names)"
   ]
  },
  {
   "cell_type": "markdown",
   "id": "a88cdfb3",
   "metadata": {},
   "source": [
    "#### Rolling Averages"
   ]
  },
  {
   "cell_type": "code",
   "execution_count": null,
   "id": "182c8102",
   "metadata": {},
   "outputs": [],
   "source": [
    "#percentage change of variable with period of 3\n",
    "#https://pandas.pydata.org/pandas-docs/stable/user_guide/computation.html\n",
    "df.pct_change(periods=3)"
   ]
  },
  {
   "cell_type": "code",
   "execution_count": 2,
   "id": "c049b742",
   "metadata": {},
   "outputs": [],
   "source": [
    "#https://pandas.pydata.org/pandas-docs/stable/reference/api/pandas.core.window.rolling.Rolling.mean.html\n",
    "# dataseries rolling average\n",
    "s.rolling(3).mean()"
   ]
  },
  {
   "cell_type": "code",
   "execution_count": null,
   "id": "d828a871",
   "metadata": {},
   "outputs": [],
   "source": [
    "#convert object to date time\n",
    "df[[\"col1\", \"col2\", \"col3\"]].apply(pd.to_datetime)"
   ]
  },
  {
   "cell_type": "markdown",
   "id": "b8701ab3",
   "metadata": {},
   "source": [
    "#### set figure size in pyplot"
   ]
  },
  {
   "cell_type": "code",
   "execution_count": null,
   "id": "fecb672c",
   "metadata": {},
   "outputs": [],
   "source": [
    "fig = plt.figure(figsize = (12,4))"
   ]
  }
 ],
 "metadata": {
  "kernelspec": {
   "display_name": "Python 3",
   "language": "python",
   "name": "python3"
  },
  "language_info": {
   "codemirror_mode": {
    "name": "ipython",
    "version": 3
   },
   "file_extension": ".py",
   "mimetype": "text/x-python",
   "name": "python",
   "nbconvert_exporter": "python",
   "pygments_lexer": "ipython3",
   "version": "3.8.8"
  }
 },
 "nbformat": 4,
 "nbformat_minor": 5
}
