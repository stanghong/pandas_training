{
 "cells": [
  {
   "cell_type": "code",
   "execution_count": null,
   "id": "0cb2ed62",
   "metadata": {},
   "outputs": [],
   "source": [
    "import pandas as pd\n",
    "import numpy as np\n",
    "import timeit\n"
   ]
  },
  {
   "cell_type": "markdown",
   "id": "2701f63b",
   "metadata": {},
   "source": [
    "**Python Idioms**"
   ]
  },
  {
   "cell_type": "code",
   "execution_count": null,
   "id": "b6ca8466",
   "metadata": {},
   "outputs": [],
   "source": [
    "df=pd.read_csv('census.csv')\n",
    "df"
   ]
  },
  {
   "cell_type": "code",
   "execution_count": null,
   "id": "5e085053",
   "metadata": {},
   "outputs": [],
   "source": []
  },
  {
   "cell_type": "code",
   "execution_count": null,
   "id": "f2d7dcb8",
   "metadata": {},
   "outputs": [],
   "source": [
    "def first_approach():\n",
    "    global df\n",
    "    return (df.where(df['SUMLEV']==50)\n",
    "            .dropna()\n",
    "            .set_index(['STNAME','CTYNAME'])\n",
    "            .rename(columns={'ESTIMATESBASE2010':'ESTIMATES BASE 2010'})) \n",
    "            \n",
    "df=pd.read_csv('census.csv')\n",
    "            \n",
    "timeit.timeit(first_approach, number=10)"
   ]
  },
  {
   "cell_type": "code",
   "execution_count": null,
   "id": "8ed51e8e",
   "metadata": {},
   "outputs": [],
   "source": [
    "def second_approach():\n",
    "    global df\n",
    "    new_df=df[df['SUMLEV']==50].dropna()\n",
    "    new_df.set_index(['STNAME','CTYNAME'], inplace=True)\n",
    "    return new_df.rename(columns={'ESTIMATESBASE2010':'ESTIMATES BASE 2010'})\n",
    "            \n",
    "df=pd.read_csv('census.csv')\n",
    "            \n",
    "timeit.timeit(second_approach, number=10)"
   ]
  },
  {
   "cell_type": "code",
   "execution_count": null,
   "id": "b59f3671",
   "metadata": {},
   "outputs": [],
   "source": [
    "df=pd.read_csv('census.csv')"
   ]
  },
  {
   "cell_type": "code",
   "execution_count": null,
   "id": "4ebb4722",
   "metadata": {},
   "outputs": [],
   "source": [
    "df.head()"
   ]
  },
  {
   "cell_type": "code",
   "execution_count": null,
   "id": "4a3ae331",
   "metadata": {},
   "outputs": [],
   "source": [
    "df.where(df['SUMLEV']==50).dropna().set_index(['STNAME','CTYNAME']).rename(columns={'ESTIMATESBASE2010':'ESTIMATES BASE 2010'})"
   ]
  },
  {
   "cell_type": "code",
   "execution_count": null,
   "id": "75970731",
   "metadata": {},
   "outputs": [],
   "source": [
    "(df.where(df['SUMLEV']==50)\n",
    "    .dropna()\n",
    "    .set_index(['STNAME','CTYNAME'])\n",
    "    .rename(columns={'ESTIMATESBASE2010':'ESTIMATES BASE 2010'})) #pandorable code"
   ]
  },
  {
   "cell_type": "code",
   "execution_count": null,
   "id": "1627a1e9",
   "metadata": {},
   "outputs": [],
   "source": [
    "\n",
    "df=df[df['SUMLEV']==50]\n"
   ]
  },
  {
   "cell_type": "code",
   "execution_count": null,
   "id": "f59a280a",
   "metadata": {},
   "outputs": [],
   "source": [
    "df.set_index(['STNAME','CTYNAME'], inplace=True)\n",
    "# why cannot use df1=df.set_index(['STNAME','CTYNAME'], inplace=True)"
   ]
  },
  {
   "cell_type": "code",
   "execution_count": null,
   "id": "619b5520",
   "metadata": {},
   "outputs": [],
   "source": [
    "df.rename(columns={'ESTIMATESBASE2010':'ESTIMATES BASE 2010'})"
   ]
  },
  {
   "cell_type": "code",
   "execution_count": null,
   "id": "b19b25ca",
   "metadata": {},
   "outputs": [],
   "source": [
    "\n",
    "def min_max(row):\n",
    "    data=row[['POPESTIMATE2010',\n",
    "             'POPESTIMATE2011',\n",
    "             'POPESTIMATE2012',\n",
    "             'POPESTIMATE2013',\n",
    "             'POPESTIMATE2014',\n",
    "             'POPESTIMATE2015']]\n",
    "    return pd.Series({'min':np.min(data), 'max':np.max(data)})\n",
    "\n",
    "df.apply(min_max,axis='columns').head()"
   ]
  },
  {
   "cell_type": "code",
   "execution_count": null,
   "id": "4aa42262",
   "metadata": {},
   "outputs": [],
   "source": [
    "def min_max(row):\n",
    "    data=row[['POPESTIMATE2010',\n",
    "             'POPESTIMATE2011',\n",
    "             'POPESTIMATE2012',\n",
    "             'POPESTIMATE2013',\n",
    "             'POPESTIMATE2014',\n",
    "             'POPESTIMATE2015']]\n",
    "    row['max']=np.max(data)\n",
    "    row['min']=np.min(data)\n",
    "    return row\n",
    "\n",
    "df.apply(min_max,axis='columns').head()"
   ]
  },
  {
   "cell_type": "code",
   "execution_count": null,
   "id": "6eddd082",
   "metadata": {},
   "outputs": [],
   "source": [
    "rows=['POPESTIMATE2010',\n",
    "             'POPESTIMATE2011',\n",
    "             'POPESTIMATE2012',\n",
    "             'POPESTIMATE2013',\n",
    "             'POPESTIMATE2014',\n",
    "             'POPESTIMATE2015']"
   ]
  },
  {
   "cell_type": "code",
   "execution_count": null,
   "id": "46e4a7e6",
   "metadata": {},
   "outputs": [],
   "source": [
    "df.apply(lambda x: np.max(x[rows]),axis=1).head()"
   ]
  },
  {
   "cell_type": "code",
   "execution_count": null,
   "id": "d925c109",
   "metadata": {},
   "outputs": [],
   "source": [
    "df=df.reset_index()\n",
    "df['STNAME']\n"
   ]
  },
  {
   "cell_type": "code",
   "execution_count": null,
   "id": "ea907a20",
   "metadata": {},
   "outputs": [],
   "source": [
    "def get_state_region(x):\n",
    "    northeast=['New Jersey']\n",
    "    midwest=['Illinois']\n",
    "    south=['Texas']\n",
    "    west=['Oregon']\n",
    "    \n",
    "    if x in northeast:\n",
    "        return 'northwest'\n",
    "    elif x in midwest:\n",
    "        return 'midwest'\n",
    "    elif x in south:\n",
    "        return 'south'\n",
    "    else:\n",
    "        return 'west'\n",
    "\n",
    "df['state_region']=df['STNAME'].apply(lambda x:get_state_region(x))"
   ]
  },
  {
   "cell_type": "code",
   "execution_count": null,
   "id": "a779d3f7",
   "metadata": {},
   "outputs": [],
   "source": [
    "df[['state_region', 'STNAME']]"
   ]
  },
  {
   "cell_type": "code",
   "execution_count": null,
   "id": "e09c8662",
   "metadata": {},
   "outputs": [],
   "source": []
  }
 ],
 "metadata": {
  "kernelspec": {
   "display_name": "Python 3",
   "language": "python",
   "name": "python3"
  },
  "language_info": {
   "codemirror_mode": {
    "name": "ipython",
    "version": 3
   },
   "file_extension": ".py",
   "mimetype": "text/x-python",
   "name": "python",
   "nbconvert_exporter": "python",
   "pygments_lexer": "ipython3",
   "version": "3.8.8"
  }
 },
 "nbformat": 4,
 "nbformat_minor": 5
}
